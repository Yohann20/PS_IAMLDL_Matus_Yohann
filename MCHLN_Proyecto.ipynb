{
  "nbformat": 4,
  "nbformat_minor": 0,
  "metadata": {
    "colab": {
      "provenance": [],
      "authorship_tag": "ABX9TyNdGR7SY/MWotVfsHIE0/73",
      "include_colab_link": true
    },
    "kernelspec": {
      "name": "python3",
      "display_name": "Python 3"
    },
    "language_info": {
      "name": "python"
    }
  },
  "cells": [
    {
      "cell_type": "markdown",
      "metadata": {
        "id": "view-in-github",
        "colab_type": "text"
      },
      "source": [
        "<a href=\"https://colab.research.google.com/github/Yohann20/PS_IAMLDL_Matus_Yohann/blob/main/MCHLN_Proyecto.ipynb\" target=\"_parent\"><img src=\"https://colab.research.google.com/assets/colab-badge.svg\" alt=\"Open In Colab\"/></a>"
      ]
    },
    {
      "cell_type": "markdown",
      "source": [
        "# **Clasificar el genero de canciones utilizando metricas de audio.**\n",
        "En este proyecto se utiliza el modelo de Arbol de decision y SVM para determinar el genero de canciones usando metricas de analisis audio para clasificarlas, para el desarrollo de este proyecto se realizaron los siguientes pasos:\n",
        "\n",
        "1. **Cargar los datasets:**\n",
        "\n",
        "Primeramente se cargan los dataset y se realiza su lectura, en cuanto a los datasets utilizados se tiene que:\n",
        "\n",
        "*   CSV DE FMA: El dataset CSV de FMA contiene metadatos de las canciones de rock y hiphop, tales como título, artista, género, duración, etc.\n",
        "\n",
        "*   JSON DE ECHONEST: El dataset JSON de EchoNest contiene métricas de análisis de audio, como tempo, clave, modo, valencia, energía, etc.\n",
        "\n",
        "2. **Union de dataset**\n",
        "\n",
        "Para el analisis se realizo una union entre ambos dataset donde, la etiqueta \"track_id\", determina la correlacion entre variables.\n",
        "\n",
        "3. **Preprocesamiento de datos**\n",
        "\n",
        "Para el procesamiento de datos, se normalizan los datos estandarizandolos, esto permite identificar las direcciones de mayor varianza considerando todas las características de manera equitativa.  \n",
        "Luego para reducir y simplificar los datos, se utiliza un metodo PCA (Analisis de Componentes Principales) lo que permite transformar el conjunto de datos para que tenga menor dimension conservando la variabilidad e informacion de los datos originales.\n",
        "\n"
      ],
      "metadata": {
        "id": "rgknjUoKXddl"
      }
    },
    {
      "cell_type": "code",
      "execution_count": null,
      "metadata": {
        "id": "6pEUpIu6JcVu"
      },
      "outputs": [],
      "source": [
        "import pandas as pd\n"
      ]
    },
    {
      "cell_type": "code",
      "source": [
        "# Lectura de data\n",
        "data = pd.read_csv(\"fma-rock-vs-hiphop.csv\")\n",
        "\n",
        "# Lectura de metricas de data y etiquetas\n",
        "echonest_metrics = pd.read_json(\"echonest-metrics.json\", precise_float=True)\n",
        "\n",
        "# Merge con columnas de dataset\n",
        "echo_data = echonest_metrics.merge(data[[\"track_id\",\"genre_top\"]],on=\"track_id\")"
      ],
      "metadata": {
        "id": "S1yLn-Zg3q2E"
      },
      "execution_count": null,
      "outputs": []
    },
    {
      "cell_type": "code",
      "source": [
        "# Resultados del dataset (Union de columnas)\n",
        "echo_data.info()\n",
        "\n"
      ],
      "metadata": {
        "colab": {
          "base_uri": "https://localhost:8080/"
        },
        "id": "voCv9CyrAg4b",
        "outputId": "34dddbb0-0054-4f46-dc09-bbe5f9029c02"
      },
      "execution_count": null,
      "outputs": [
        {
          "output_type": "stream",
          "name": "stdout",
          "text": [
            "<class 'pandas.core.frame.DataFrame'>\n",
            "RangeIndex: 4802 entries, 0 to 4801\n",
            "Data columns (total 10 columns):\n",
            " #   Column            Non-Null Count  Dtype  \n",
            "---  ------            --------------  -----  \n",
            " 0   track_id          4802 non-null   int64  \n",
            " 1   acousticness      4802 non-null   float64\n",
            " 2   danceability      4802 non-null   float64\n",
            " 3   energy            4802 non-null   float64\n",
            " 4   instrumentalness  4802 non-null   float64\n",
            " 5   liveness          4802 non-null   float64\n",
            " 6   speechiness       4802 non-null   float64\n",
            " 7   tempo             4802 non-null   float64\n",
            " 8   valence           4802 non-null   float64\n",
            " 9   genre_top         4802 non-null   object \n",
            "dtypes: float64(8), int64(1), object(1)\n",
            "memory usage: 375.3+ KB\n"
          ]
        }
      ]
    },
    {
      "cell_type": "code",
      "source": [
        "from sklearn.model_selection import train_test_split\n",
        "\n",
        "# Crear datos\n",
        "datos = echo_data.drop([\"genre_top\",\"track_id\"],axis=1).values\n",
        "\n",
        "# Crear Etiquetas\n",
        "etiquetas = echo_data[\"genre_top\"].values\n",
        "\n",
        "# Division de datos\n",
        "train_datos, test_datos, train_etiquetas, test_etiquetas = train_test_split(datos,etiquetas,random_state = 10)\n"
      ],
      "metadata": {
        "id": "rebb6-nMXD3J"
      },
      "execution_count": null,
      "outputs": []
    },
    {
      "cell_type": "markdown",
      "source": [
        "# Normalizacion de dataset.\n",
        "\n",
        "Para el procesamiento de datos se normaliza el dataset, este proceso transforma las caracteristicas del dataset para que tengan una media  de 0 y una desviacion estandar de 1.\n",
        "Debido a que se usara **PCA** (Analisis de componente principal) garantiza que todas las caracteristias de los datos contribuyan de manera equitativa y no dominen debido a diferencias en escalas.\n",
        "\n",
        "Gracias a la normalizacion, datos que pueden tener diferentes unidades de medida las lleve a una escala comun y mejora el rendimiento del algoritmo PCA.\n"
      ],
      "metadata": {
        "id": "NrRp3vO5W22S"
      }
    },
    {
      "cell_type": "code",
      "source": [
        "# Preprocesamiento y Normalizacion del dataset\n",
        "from sklearn.preprocessing import StandardScaler\n",
        "# Scaler a train y test datos\n",
        "scaler = StandardScaler()\n",
        "scaled_train_datos = scaler.fit_transform(train_datos)\n",
        "scaled_test_datos = scaler.transform(test_datos)"
      ],
      "metadata": {
        "id": "V92AS94CQxFP"
      },
      "execution_count": null,
      "outputs": []
    },
    {
      "cell_type": "markdown",
      "source": [
        "# Analisis de Componentes principales (PCA)\n",
        "\n",
        "PCA es una tecnica de reduccion de dimensionalidad que transforma un conjunto de datos de muchas dimensiones a un nuevo conjunto de datos con menos dimensiones, manteniendo la mayor cantidad posible de la variabilidad original del dataset.\n",
        "\n",
        "Gracias a este algoritmo se logra simplificar el dataset, ayuda a concentrarse en las caracteristicas que contribuyen a la variabilidad del dataset y mejora rendimiento."
      ],
      "metadata": {
        "id": "DLexAOzr8NLW"
      }
    },
    {
      "cell_type": "code",
      "source": [
        "# Importar PCA\n",
        "import matplotlib.pyplot as plt\n",
        "from sklearn.decomposition import PCA\n",
        "\n",
        "\n",
        "# Realizar PCA\n",
        "pca = PCA()\n",
        "pca.fit(scaled_train_datos)\n",
        "exp_variance = pca.explained_variance_ratio_\n"
      ],
      "metadata": {
        "id": "loMILOsBTnG2"
      },
      "execution_count": null,
      "outputs": []
    },
    {
      "cell_type": "markdown",
      "source": [
        "# Varianza explicada acumulada\n",
        "\n",
        "La varianza explicada acumulada es una medida que se utiliza en el Análisis de Componentes Principales (PCA) para entender cuánta información (o varianza) de los datos originales se retiene a medida que se incluyen más componentes principales.\n",
        "\n",
        "En este punto se determina el numero de componentes principales y se calcula la varianza explicada acumulada, esto ayudará a determinar los parametros de PCA y proporciona una idea de cuanta varianza total se explica al considerar los componentes principales.  \n",
        "\n",
        "En el siguiente grafico se muestra la varianza explicada acumulada, se traza el eje y con **\"cum_exp_variance\"** y el eje x con el numero de componentes principales. Además, se dibuja una linea en el 0.90 (de forma arbitraria) que indica el punto donde se explica el 90% de la varianza total."
      ],
      "metadata": {
        "id": "iv-CrHoYWueU"
      }
    },
    {
      "cell_type": "code",
      "source": [
        "\n",
        "import numpy as np\n",
        "\n",
        "# Determinar numero de componentes principales\n",
        "cum_exp_variance = np.cumsum(exp_variance)\n",
        "\n",
        "# Graficar la varianza explicada y una linea en 0.90.\n",
        "fig, ax = plt.subplots()\n",
        "ax.plot(cum_exp_variance)\n",
        "ax.axhline(y=0.90, linestyle='--')\n",
        "ax.set_xlabel('Número de componentes principales')\n",
        "ax.set_ylabel('Varianza explicada acumulada')\n",
        "plt.title('Varianza explicada acumulada por PCA')\n",
        "plt.show()"
      ],
      "metadata": {
        "colab": {
          "base_uri": "https://localhost:8080/",
          "height": 472
        },
        "id": "-3oMM6ymUrvW",
        "outputId": "6e3bd5f8-afb5-47fa-f8b1-cbb812bfd1b0"
      },
      "execution_count": null,
      "outputs": [
        {
          "output_type": "display_data",
          "data": {
            "text/plain": [
              "<Figure size 640x480 with 1 Axes>"
            ],
            "image/png": "[encoded data removed]"
          },
          "metadata": {}
        }
      ]
    },
    {
      "cell_type": "markdown",
      "source": [
        "PCA\n",
        "\n",
        "Analizando el grafico, se puede determinar que con 90% de varianza la cantidad de componentes principales necesarios para aplicar el algoritmo, en este caso es 6 (indice comienza de 0) y se especifica en los parametros de PCA.\n",
        "\n"
      ],
      "metadata": {
        "id": "zN6Yy2VzBsiy"
      }
    },
    {
      "cell_type": "code",
      "source": [
        "# Realizar PCA con numero de componentes seleccionado\n",
        "pca = PCA(n_components=6)\n",
        "train_pca = pca.fit_transform(scaled_train_datos)\n",
        "test_pca = pca.transform(scaled_test_datos)"
      ],
      "metadata": {
        "id": "9gu3Jj6yU2Li"
      },
      "execution_count": null,
      "outputs": []
    },
    {
      "cell_type": "markdown",
      "source": [
        "# Arbol de decision\n",
        "\n",
        "El primer modelo utilizado es el de Arbol de decision, a continuacion se muestra la prediccion de etiquetas, su nivel de precision y matriz de confusion.\n"
      ],
      "metadata": {
        "id": "WJkspz_IZkXK"
      }
    },
    {
      "cell_type": "code",
      "source": [
        "from sklearn.tree import DecisionTreeClassifier\n",
        "\n",
        "# Entrenar con arbol de decision\n",
        "tree = DecisionTreeClassifier(random_state =10)\n",
        "tree.fit(train_pca,train_etiquetas)\n",
        "\n",
        "# Predecir las etiquetas para los datos de prueba\n",
        "pred_labels_tree = tree.predict(test_pca)\n",
        "print(pred_labels_tree)"
      ],
      "metadata": {
        "colab": {
          "base_uri": "https://localhost:8080/"
        },
        "id": "TqKpMTIAjbYW",
        "outputId": "881ff7be-94ea-4000-8268-1b1858a34745"
      },
      "execution_count": null,
      "outputs": [
        {
          "output_type": "stream",
          "name": "stdout",
          "text": [
            "['Rock' 'Rock' 'Rock' ... 'Hip-Hop' 'Rock' 'Rock']\n"
          ]
        }
      ]
    },
    {
      "cell_type": "code",
      "source": [
        "from sklearn.metrics import accuracy_score\n",
        "# Calcular y mostrar el score\n",
        "accuracy = accuracy_score(test_etiquetas, pred_labels_tree)\n",
        "print(f\"Precision: {accuracy}\")"
      ],
      "metadata": {
        "colab": {
          "base_uri": "https://localhost:8080/"
        },
        "id": "upOH9cthj31D",
        "outputId": "cf8bc3f5-0531-4cf3-d009-b7210356a2c4"
      },
      "execution_count": null,
      "outputs": [
        {
          "output_type": "stream",
          "name": "stdout",
          "text": [
            "Precision: 0.8534554537885096\n"
          ]
        }
      ]
    },
    {
      "cell_type": "code",
      "source": [
        "from sklearn.metrics import confusion_matrix, ConfusionMatrixDisplay\n",
        "# Calcular y mostrar la matriz de confusión\n",
        "conf_matrix = confusion_matrix(test_etiquetas, pred_labels_tree)\n",
        "\n",
        "disp = ConfusionMatrixDisplay(confusion_matrix=conf_matrix, display_labels=tree.classes_)\n",
        "disp.plot(cmap=plt.cm.Blues)\n",
        "plt.title(\"Matriz de Confusión\")\n",
        "plt.show()"
      ],
      "metadata": {
        "colab": {
          "base_uri": "https://localhost:8080/",
          "height": 472
        },
        "id": "UwqULmDekmvp",
        "outputId": "20e93099-e657-49c0-d633-54849e8d7092"
      },
      "execution_count": null,
      "outputs": [
        {
          "output_type": "display_data",
          "data": {
            "text/plain": [
              "<Figure size 640x480 with 2 Axes>"
            ],
            "image/png": "[encoded data removed]"
          },
          "metadata": {}
        }
      ]
    },
    {
      "cell_type": "markdown",
      "source": [
        "# Reporte de precision\n",
        "\n",
        " Estos datos representan el rendimiento del modelo de Árbol de Decisión aplicado al conjunto de prueba, utilizando las métricas de precisión para las clases \"Hip-Hop\" y \"Rock\".\n",
        "\n",
        "\n",
        "*   Para Hip-hop, se registra un 63% de predicciones correctas.\n",
        "*   Para Rock, se registra un 91% de predicciones correctas.\n",
        "*   La precision general del modelo es del 85%.\n",
        "\n",
        "\n",
        "\n",
        "\n"
      ],
      "metadata": {
        "id": "zHaRPqRyZzrA"
      }
    },
    {
      "cell_type": "code",
      "source": [
        "# Reporte de clasificacion del modelo de arbol de decision\n",
        "from sklearn.metrics import classification_report\n",
        "class_rep_tree = classification_report(test_etiquetas,pred_labels_tree)\n",
        "print(\"Arbol de Decision: \\n\", class_rep_tree)"
      ],
      "metadata": {
        "colab": {
          "base_uri": "https://localhost:8080/"
        },
        "id": "17tA2WaClKmE",
        "outputId": "68e0669c-3b30-4c62-9ffb-11add6adf6f7"
      },
      "execution_count": null,
      "outputs": [
        {
          "output_type": "stream",
          "name": "stdout",
          "text": [
            "Arbol de Decision: \n",
            "               precision    recall  f1-score   support\n",
            "\n",
            "     Hip-Hop       0.63      0.62      0.62       235\n",
            "        Rock       0.91      0.91      0.91       966\n",
            "\n",
            "    accuracy                           0.85      1201\n",
            "   macro avg       0.77      0.77      0.77      1201\n",
            "weighted avg       0.85      0.85      0.85      1201\n",
            "\n"
          ]
        }
      ]
    },
    {
      "cell_type": "markdown",
      "source": [
        "# Modelo SVM\n",
        "\n",
        "El segundo modelo a entrenar es el de SVM (Maquina de soporte vectorial), a continuacion se muestra la prediccion de etiquetas, su nivel de precision y matriz de confusion"
      ],
      "metadata": {
        "id": "E5hJD1eUbZYk"
      }
    },
    {
      "cell_type": "code",
      "source": [
        "from sklearn.svm import SVC\n",
        "\n",
        "# Entrenar con SVM\n",
        "svm = SVC(kernel='linear', random_state=10)\n",
        "svm.fit(train_pca, train_etiquetas)\n",
        "\n",
        "# Predecir las etiquetas para los datos de prueba\n",
        "pred_labels_svm = svm.predict(test_pca)\n",
        "print(pred_labels_svm)"
      ],
      "metadata": {
        "id": "LvgU65CP2ph_",
        "colab": {
          "base_uri": "https://localhost:8080/"
        },
        "outputId": "ad34a532-32fb-4ef3-d85a-5c1688be0baa"
      },
      "execution_count": null,
      "outputs": [
        {
          "output_type": "stream",
          "name": "stdout",
          "text": [
            "['Rock' 'Rock' 'Rock' ... 'Rock' 'Rock' 'Rock']\n"
          ]
        }
      ]
    },
    {
      "cell_type": "code",
      "source": [
        "# Calcular y mostrar el score\n",
        "accuracy_svm = accuracy_score(test_etiquetas, pred_labels_svm)\n",
        "print(f\"Precision del SVM: {accuracy_svm}\")\n",
        "\n",
        "# Calcular y mostrar la matriz de confusión\n",
        "conf_matrix_svm = confusion_matrix(test_etiquetas, pred_labels_svm)\n",
        "disp_svm = ConfusionMatrixDisplay(confusion_matrix=conf_matrix_svm, display_labels=svm.classes_)\n",
        "disp_svm.plot(cmap=plt.cm.Blues)\n",
        "plt.title(\"Matriz de Confusión del SVM\")\n",
        "plt.show()"
      ],
      "metadata": {
        "id": "MV3aZgOg2siJ",
        "colab": {
          "base_uri": "https://localhost:8080/",
          "height": 489
        },
        "outputId": "0e0d5ff7-c14d-44e6-9467-a440c36ab9bb"
      },
      "execution_count": null,
      "outputs": [
        {
          "output_type": "stream",
          "name": "stdout",
          "text": [
            "Precision del SVM: 0.8792672772689425\n"
          ]
        },
        {
          "output_type": "display_data",
          "data": {
            "text/plain": [
              "<Figure size 640x480 with 2 Axes>"
            ],
            "image/png": "[encoded data removed]"
          },
          "metadata": {}
        }
      ]
    },
    {
      "cell_type": "markdown",
      "source": [
        "# Reporte de precision\n",
        "\n",
        "Estos datos representan el rendimiento del modelo de SVM aplicado al conjunto de prueba, utilizando las métricas de precisión para las clases \"Hip-Hop\" y \"Rock\".\n",
        "\n",
        "\n",
        "*   Para Hip-hop, se registra un 79% de predicciones correctas.\n",
        "*   Para Rock, se registra un 89% de predicciones correctas.\n",
        "*   La precision general del modelo es del 88%.\n",
        "\n",
        "\n",
        "\n",
        "\n"
      ],
      "metadata": {
        "id": "2PZxWBmzdKY6"
      }
    },
    {
      "cell_type": "code",
      "source": [
        "# Reporte de clasificacion del modelo de SVM\n",
        "class_rep_svm = classification_report(test_etiquetas, pred_labels_svm)\n",
        "print(\"SVM: \\n\", class_rep_svm)"
      ],
      "metadata": {
        "id": "kIXBH3wi2s_5",
        "colab": {
          "base_uri": "https://localhost:8080/"
        },
        "outputId": "299b6f73-9b22-40ee-e7d7-95f09faa7627"
      },
      "execution_count": null,
      "outputs": [
        {
          "output_type": "stream",
          "name": "stdout",
          "text": [
            "SVM: \n",
            "               precision    recall  f1-score   support\n",
            "\n",
            "     Hip-Hop       0.79      0.52      0.63       235\n",
            "        Rock       0.89      0.97      0.93       966\n",
            "\n",
            "    accuracy                           0.88      1201\n",
            "   macro avg       0.84      0.74      0.78      1201\n",
            "weighted avg       0.87      0.88      0.87      1201\n",
            "\n"
          ]
        }
      ]
    },
    {
      "cell_type": "markdown",
      "source": [
        "# Conclusion.\n",
        "\n",
        "Al comparar los resultados de los modelos de Árbol de Decisión y Máquina de Vectores de Soporte (SVM) tenemos los siguientes datos:\n",
        "\n",
        "**Precisión:**\n",
        "\n",
        "El Árbol de Decisión muestra una precisión del 63% para \"Hip-Hop\" y del 91% para \"Rock\".\n",
        "El SVM presenta una mayor precisión para \"Hip-Hop\" (79%) y una precisión similar para \"Rock\" (89%).\n",
        "\n",
        "**Exactitud General:**\n",
        "\n",
        "La exactitud del Árbol de Decisión es del 85%.\n",
        "La exactitud del SVM es ligeramente superior, alcanzando el 88%.\n",
        "\n",
        "Analizando estos datos tenemos que ambos modelos representan diferencias de precision con las etiquetas de manera individual pero el modelo SVM proporciona un mejor rendimiento general que el Arbol de decision por lo que, comparando con el modelo de Arbol de decision es la mejor opcion para la clasificacion de generos musicales."
      ],
      "metadata": {
        "id": "-GDhKjr16bZs"
      }
    }
  ]
}